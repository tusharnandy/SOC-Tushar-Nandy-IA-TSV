{
  "nbformat": 4,
  "nbformat_minor": 0,
  "metadata": {
    "kernelspec": {
      "display_name": "Python 3",
      "language": "python",
      "name": "python3"
    },
    "language_info": {
      "codemirror_mode": {
        "name": "ipython",
        "version": 3
      },
      "file_extension": ".py",
      "mimetype": "text/x-python",
      "name": "python",
      "nbconvert_exporter": "python",
      "pygments_lexer": "ipython3",
      "version": "3.8.1"
    },
    "colab": {
      "name": "Ass5_first_attachment.ipynb",
      "provenance": []
    }
  },
  "cells": [
    {
      "cell_type": "code",
      "metadata": {
        "id": "V9RrWU9cmq_4",
        "colab_type": "code",
        "colab": {}
      },
      "source": [
        "import pandas as pd\n",
        "import matplotlib.pyplot as plt\n",
        "import seaborn as sns\n",
        "import numpy as np\n",
        "import numpy.random as nr\n",
        "import math\n",
        "from sklearn import preprocessing\n",
        "import sklearn.model_selection as ms\n",
        "from sklearn import linear_model\n",
        "import sklearn.metrics as sklm\n",
        "\n",
        "%matplotlib inline"
      ],
      "execution_count": 0,
      "outputs": []
    },
    {
      "cell_type": "code",
      "metadata": {
        "id": "_Qvax2b5mrAB",
        "colab_type": "code",
        "colab": {},
        "outputId": "614e53f1-004b-4750-a94a-a6f3b4a5f824"
      },
      "source": [
        "database_a=database_b= pd.read_csv(r\"C:\\Users\\kamra\\Downloads\\Songs_LA.csv\")\n",
        "database_a.drop(\"Unnamed: 1\", axis=1, inplace=True)\n",
        "database_a.columns"
      ],
      "execution_count": 0,
      "outputs": [
        {
          "output_type": "execute_result",
          "data": {
            "text/plain": [
              "Index(['songs', 'happy', 'sad', 'romance', 'fast'], dtype='object')"
            ]
          },
          "metadata": {
            "tags": []
          },
          "execution_count": 2
        }
      ]
    },
    {
      "cell_type": "code",
      "metadata": {
        "id": "2aWdEhqmmrAJ",
        "colab_type": "code",
        "colab": {},
        "outputId": "e4bd8e9d-9a77-4958-984d-44dfb4e2c66b"
      },
      "source": [
        "database_a.head()"
      ],
      "execution_count": 0,
      "outputs": [
        {
          "output_type": "execute_result",
          "data": {
            "text/html": [
              "<div>\n",
              "<style scoped>\n",
              "    .dataframe tbody tr th:only-of-type {\n",
              "        vertical-align: middle;\n",
              "    }\n",
              "\n",
              "    .dataframe tbody tr th {\n",
              "        vertical-align: top;\n",
              "    }\n",
              "\n",
              "    .dataframe thead th {\n",
              "        text-align: right;\n",
              "    }\n",
              "</style>\n",
              "<table border=\"1\" class=\"dataframe\">\n",
              "  <thead>\n",
              "    <tr style=\"text-align: right;\">\n",
              "      <th></th>\n",
              "      <th>songs</th>\n",
              "      <th>happy</th>\n",
              "      <th>sad</th>\n",
              "      <th>romance</th>\n",
              "      <th>fast</th>\n",
              "    </tr>\n",
              "  </thead>\n",
              "  <tbody>\n",
              "    <tr>\n",
              "      <th>0</th>\n",
              "      <td>Memories</td>\n",
              "      <td>3</td>\n",
              "      <td>8</td>\n",
              "      <td>1</td>\n",
              "      <td>1</td>\n",
              "    </tr>\n",
              "    <tr>\n",
              "      <th>1</th>\n",
              "      <td>Closer</td>\n",
              "      <td>7</td>\n",
              "      <td>0</td>\n",
              "      <td>9</td>\n",
              "      <td>3</td>\n",
              "    </tr>\n",
              "    <tr>\n",
              "      <th>2</th>\n",
              "      <td>Rap God</td>\n",
              "      <td>6</td>\n",
              "      <td>2</td>\n",
              "      <td>0</td>\n",
              "      <td>10</td>\n",
              "    </tr>\n",
              "    <tr>\n",
              "      <th>3</th>\n",
              "      <td>Steal My Girl</td>\n",
              "      <td>8</td>\n",
              "      <td>1</td>\n",
              "      <td>8</td>\n",
              "      <td>6</td>\n",
              "    </tr>\n",
              "    <tr>\n",
              "      <th>4</th>\n",
              "      <td>Love Me Like You Do</td>\n",
              "      <td>7</td>\n",
              "      <td>1</td>\n",
              "      <td>8</td>\n",
              "      <td>7</td>\n",
              "    </tr>\n",
              "  </tbody>\n",
              "</table>\n",
              "</div>"
            ],
            "text/plain": [
              "                 songs  happy  sad  romance  fast\n",
              "0             Memories      3    8        1     1\n",
              "1               Closer      7    0        9     3\n",
              "2              Rap God      6    2        0    10\n",
              "3        Steal My Girl      8    1        8     6\n",
              "4  Love Me Like You Do      7    1        8     7"
            ]
          },
          "metadata": {
            "tags": []
          },
          "execution_count": 3
        }
      ]
    },
    {
      "cell_type": "code",
      "metadata": {
        "id": "0er11Fx3mrAQ",
        "colab_type": "code",
        "colab": {},
        "outputId": "1f30c864-81c9-40ec-cb6c-29653e3803f5"
      },
      "source": [
        "df = database_a.drop(\"songs\", axis=1)\n",
        "database_a.head()"
      ],
      "execution_count": 0,
      "outputs": [
        {
          "output_type": "execute_result",
          "data": {
            "text/html": [
              "<div>\n",
              "<style scoped>\n",
              "    .dataframe tbody tr th:only-of-type {\n",
              "        vertical-align: middle;\n",
              "    }\n",
              "\n",
              "    .dataframe tbody tr th {\n",
              "        vertical-align: top;\n",
              "    }\n",
              "\n",
              "    .dataframe thead th {\n",
              "        text-align: right;\n",
              "    }\n",
              "</style>\n",
              "<table border=\"1\" class=\"dataframe\">\n",
              "  <thead>\n",
              "    <tr style=\"text-align: right;\">\n",
              "      <th></th>\n",
              "      <th>songs</th>\n",
              "      <th>happy</th>\n",
              "      <th>sad</th>\n",
              "      <th>romance</th>\n",
              "      <th>fast</th>\n",
              "    </tr>\n",
              "  </thead>\n",
              "  <tbody>\n",
              "    <tr>\n",
              "      <th>0</th>\n",
              "      <td>Memories</td>\n",
              "      <td>3</td>\n",
              "      <td>8</td>\n",
              "      <td>1</td>\n",
              "      <td>1</td>\n",
              "    </tr>\n",
              "    <tr>\n",
              "      <th>1</th>\n",
              "      <td>Closer</td>\n",
              "      <td>7</td>\n",
              "      <td>0</td>\n",
              "      <td>9</td>\n",
              "      <td>3</td>\n",
              "    </tr>\n",
              "    <tr>\n",
              "      <th>2</th>\n",
              "      <td>Rap God</td>\n",
              "      <td>6</td>\n",
              "      <td>2</td>\n",
              "      <td>0</td>\n",
              "      <td>10</td>\n",
              "    </tr>\n",
              "    <tr>\n",
              "      <th>3</th>\n",
              "      <td>Steal My Girl</td>\n",
              "      <td>8</td>\n",
              "      <td>1</td>\n",
              "      <td>8</td>\n",
              "      <td>6</td>\n",
              "    </tr>\n",
              "    <tr>\n",
              "      <th>4</th>\n",
              "      <td>Love Me Like You Do</td>\n",
              "      <td>7</td>\n",
              "      <td>1</td>\n",
              "      <td>8</td>\n",
              "      <td>7</td>\n",
              "    </tr>\n",
              "  </tbody>\n",
              "</table>\n",
              "</div>"
            ],
            "text/plain": [
              "                 songs  happy  sad  romance  fast\n",
              "0             Memories      3    8        1     1\n",
              "1               Closer      7    0        9     3\n",
              "2              Rap God      6    2        0    10\n",
              "3        Steal My Girl      8    1        8     6\n",
              "4  Love Me Like You Do      7    1        8     7"
            ]
          },
          "metadata": {
            "tags": []
          },
          "execution_count": 4
        }
      ]
    },
    {
      "cell_type": "code",
      "metadata": {
        "id": "cilMCf7pmrAY",
        "colab_type": "code",
        "colab": {}
      },
      "source": [
        "df[\"Mood\"] = df.idxmax(axis=1)"
      ],
      "execution_count": 0,
      "outputs": []
    },
    {
      "cell_type": "code",
      "metadata": {
        "id": "G2j3ZQ_5mrAe",
        "colab_type": "code",
        "colab": {}
      },
      "source": [
        "database_a[\"Mood\"] = database_b[\"Mood\"] = df[\"Mood\"]"
      ],
      "execution_count": 0,
      "outputs": []
    },
    {
      "cell_type": "code",
      "metadata": {
        "id": "dLCdta4smrAn",
        "colab_type": "code",
        "colab": {},
        "outputId": "30cd652b-387d-4730-e3aa-50f52addc66a"
      },
      "source": [
        "database_b.head()"
      ],
      "execution_count": 0,
      "outputs": [
        {
          "output_type": "execute_result",
          "data": {
            "text/html": [
              "<div>\n",
              "<style scoped>\n",
              "    .dataframe tbody tr th:only-of-type {\n",
              "        vertical-align: middle;\n",
              "    }\n",
              "\n",
              "    .dataframe tbody tr th {\n",
              "        vertical-align: top;\n",
              "    }\n",
              "\n",
              "    .dataframe thead th {\n",
              "        text-align: right;\n",
              "    }\n",
              "</style>\n",
              "<table border=\"1\" class=\"dataframe\">\n",
              "  <thead>\n",
              "    <tr style=\"text-align: right;\">\n",
              "      <th></th>\n",
              "      <th>songs</th>\n",
              "      <th>happy</th>\n",
              "      <th>sad</th>\n",
              "      <th>romance</th>\n",
              "      <th>fast</th>\n",
              "      <th>Mood</th>\n",
              "    </tr>\n",
              "  </thead>\n",
              "  <tbody>\n",
              "    <tr>\n",
              "      <th>0</th>\n",
              "      <td>Memories</td>\n",
              "      <td>3</td>\n",
              "      <td>8</td>\n",
              "      <td>1</td>\n",
              "      <td>1</td>\n",
              "      <td>sad</td>\n",
              "    </tr>\n",
              "    <tr>\n",
              "      <th>1</th>\n",
              "      <td>Closer</td>\n",
              "      <td>7</td>\n",
              "      <td>0</td>\n",
              "      <td>9</td>\n",
              "      <td>3</td>\n",
              "      <td>romance</td>\n",
              "    </tr>\n",
              "    <tr>\n",
              "      <th>2</th>\n",
              "      <td>Rap God</td>\n",
              "      <td>6</td>\n",
              "      <td>2</td>\n",
              "      <td>0</td>\n",
              "      <td>10</td>\n",
              "      <td>fast</td>\n",
              "    </tr>\n",
              "    <tr>\n",
              "      <th>3</th>\n",
              "      <td>Steal My Girl</td>\n",
              "      <td>8</td>\n",
              "      <td>1</td>\n",
              "      <td>8</td>\n",
              "      <td>6</td>\n",
              "      <td>happy</td>\n",
              "    </tr>\n",
              "    <tr>\n",
              "      <th>4</th>\n",
              "      <td>Love Me Like You Do</td>\n",
              "      <td>7</td>\n",
              "      <td>1</td>\n",
              "      <td>8</td>\n",
              "      <td>7</td>\n",
              "      <td>romance</td>\n",
              "    </tr>\n",
              "  </tbody>\n",
              "</table>\n",
              "</div>"
            ],
            "text/plain": [
              "                 songs  happy  sad  romance  fast     Mood\n",
              "0             Memories      3    8        1     1      sad\n",
              "1               Closer      7    0        9     3  romance\n",
              "2              Rap God      6    2        0    10     fast\n",
              "3        Steal My Girl      8    1        8     6    happy\n",
              "4  Love Me Like You Do      7    1        8     7  romance"
            ]
          },
          "metadata": {
            "tags": []
          },
          "execution_count": 7
        }
      ]
    },
    {
      "cell_type": "code",
      "metadata": {
        "id": "EEIX-6pgmrAu",
        "colab_type": "code",
        "colab": {},
        "outputId": "ea965cec-9ead-4edc-f759-cc39a4633a8d"
      },
      "source": [
        "print( 'Select your song from this list:  ') \n",
        "print ( database_a['songs'])"
      ],
      "execution_count": 0,
      "outputs": [
        {
          "output_type": "stream",
          "text": [
            "Select your song from this list:  \n",
            "0                  Memories\n",
            "1                    Closer\n",
            "2                   Rap God\n",
            "3             Steal My Girl\n",
            "4       Love Me Like You Do\n",
            "5                        2U\n",
            "6             Lose Yourself\n",
            "7             Summer of ’69\n",
            "8                  Hey Jude\n",
            "9                 Paper Cut\n",
            "10               The Nights\n",
            "11               Photograph\n",
            "12       You Belong With Me\n",
            "13                Taki Taki\n",
            "14         What Do You Mean\n",
            "15             Shape Of You\n",
            "16     Love the way you lie\n",
            "17            Cheap Thrills\n",
            "18        Thinking Out Loud\n",
            "19                Legendary\n",
            "20              Electricity\n",
            "21         Careless Whisper\n",
            "22               Astronomia\n",
            "23      Sweet Child O’ Mine\n",
            "24                     Baby\n",
            "25       Sweet Home Alabama\n",
            "26               Not Afraid\n",
            "27                      Low\n",
            "28     Hymm For The Weekend\n",
            "29                   Zombie\n",
            "30            All The Stars\n",
            "31            Hotline Bling\n",
            "32                All Of Me\n",
            "33                 Star Boy\n",
            "34                     Zedd\n",
            "35                 Believer\n",
            "36                On My Way\n",
            "37                  Perfect\n",
            "38                    Faded\n",
            "39                  Lean On\n",
            "40         I Like Me Better\n",
            "41        Running After You\n",
            "42         I Believe In You\n",
            "43            You are Loved\n",
            "44                   Havana\n",
            "45                 Payphone\n",
            "46           Hips Don't Lie\n",
            "47     Can We Kiss Forever?\n",
            "48                   Dancin\n",
            "49                  Cradles\n",
            "50             Dance Monkey\n",
            "51                 La La La\n",
            "52            Elastic Heart\n",
            "53                    Faith\n",
            "54                 Physical\n",
            "55    We Don't Talk Anymore\n",
            "56                    Youth\n",
            "57                  Shallow\n",
            "58        Someone You Loved\n",
            "59           Girls Like You\n",
            "Name: songs, dtype: object\n"
          ],
          "name": "stdout"
        }
      ]
    },
    {
      "cell_type": "code",
      "metadata": {
        "id": "DOtJRLArmrA1",
        "colab_type": "code",
        "colab": {},
        "outputId": "3769fea8-e460-4a46-e7b5-eddda3de89b1"
      },
      "source": [
        "song1 = input(\"Enter song name : \" )\n",
        "print ('Currently playing: ' +song1)"
      ],
      "execution_count": 0,
      "outputs": [
        {
          "output_type": "stream",
          "text": [
            "Enter song name : Love the way you lie\n",
            "Currently playing: Love the way you lie\n"
          ],
          "name": "stdout"
        }
      ]
    },
    {
      "cell_type": "code",
      "metadata": {
        "id": "5pHKusDimrA7",
        "colab_type": "code",
        "colab": {},
        "outputId": "72956f7d-0940-435d-ced4-8f2aa6cceb35"
      },
      "source": [
        "for songnum in range (60):\n",
        "    if song1 == database_a['songs'][songnum]:\n",
        "        break\n",
        "        \n",
        "print (songnum)"
      ],
      "execution_count": 0,
      "outputs": [
        {
          "output_type": "stream",
          "text": [
            "16\n"
          ],
          "name": "stdout"
        }
      ]
    },
    {
      "cell_type": "code",
      "metadata": {
        "id": "XkGeJJMYmrBA",
        "colab_type": "code",
        "colab": {},
        "outputId": "654d5b1b-b4b1-4eae-f76a-84d71e3e9c05"
      },
      "source": [
        "def nearestneighbour(df, songnum):\n",
        "    \n",
        "  list = df[\"Song Name\"].values.tolist()\n",
        "  list.remove(current_song)\n",
        "  upcoming = []\n",
        "\n",
        "  for j in range(3):\n",
        "\n",
        "      nextsong = ''\n",
        "      min = 10**8\n",
        "\n",
        "      for next in list:\n",
        "          dist = 0\n",
        "\n",
        "          for dim in space:\n",
        "              dist += (df.loc[df[\"Song Name\"] == next, dim].values[0] - df.loc[df[\"Song Name\"] == current_song, dim].values[0]) ** 2\n",
        "\n",
        "          dist = np.sqrt(dist)\n",
        "          if dist < min:\n",
        "              min = dist\n",
        "              nextsong = next\n",
        "\n",
        "      list.remove(nextsong)\n",
        "      upcoming.append(nextsong)\n",
        "\n",
        "  return upcoming\n",
        "\n",
        "print ('Next song :'  + nearestneighbour(database_a, songnum))\n",
        "        \n",
        "        "
      ],
      "execution_count": 0,
      "outputs": [
        {
          "output_type": "stream",
          "text": [
            "Next song :Cradles\n"
          ],
          "name": "stdout"
        }
      ]
    },
    {
      "cell_type": "code",
      "metadata": {
        "id": "lZVfwQyOmrBK",
        "colab_type": "code",
        "colab": {}
      },
      "source": [
        ""
      ],
      "execution_count": 0,
      "outputs": []
    }
  ]
}
